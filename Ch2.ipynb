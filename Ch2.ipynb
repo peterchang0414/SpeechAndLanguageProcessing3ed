{
  "nbformat": 4,
  "nbformat_minor": 0,
  "metadata": {
    "colab": {
      "name": "Ch2.ipynb",
      "provenance": []
    },
    "kernelspec": {
      "name": "python3",
      "display_name": "Python 3"
    },
    "language_info": {
      "name": "python"
    }
  },
  "cells": [
    {
      "cell_type": "markdown",
      "source": [
        "# 2: Regular Expressions, Text Normalization, Edit Distance"
      ],
      "metadata": {
        "id": "qk47KCC8e3kD"
      }
    },
    {
      "cell_type": "markdown",
      "source": [
        "**2.1**: Write regular expressions for the following languages.\n",
        "\n",
        "\n",
        "1.   the set of all alphabetic strings;\n",
        "2.   the set of all lower case alphabetic strings ending in a *b*\n",
        "3.   the set of all strings from the alphabet *a, b* such that each *a* is immediately preceded by and immediately followed by a *b*;\n",
        "\n"
      ],
      "metadata": {
        "id": "bxhs_F7yfDEK"
      }
    },
    {
      "cell_type": "code",
      "execution_count": 27,
      "metadata": {
        "id": "UUkJqcNCbMwS",
        "colab": {
          "base_uri": "https://localhost:8080/"
        },
        "outputId": "2a79318b-706a-47cd-9129-bbef2b8edf39"
      },
      "outputs": [
        {
          "output_type": "stream",
          "name": "stdout",
          "text": [
            "1. The set of all alphabetic strings:\n",
            "Db\n",
            "AbcdE\n",
            "bbabbbabbb\n",
            "abab\n",
            "bb\n",
            "\n",
            "\n",
            "2. The set of all lower-case alphabetic strings ending in a 'b':\n",
            "bbabbbabbb\n",
            "abab\n",
            "bb\n",
            "\n",
            "\n",
            "3. The set of all strings from the alphabet [a,b] such that\n",
            " each a is immediately preceded by and immediately followed by a b:\n",
            "bbabbbabbb\n",
            "bb\n"
          ]
        }
      ],
      "source": [
        "import re\n",
        "\n",
        "strings = [\"a_b0c\", \"Db\", \"AbcdE\", \"bbabbbabbb\", \"abab\", \"123\", \"1b\", \"bb\"]\n",
        "\n",
        "# We interpret \"string\" as an entire word in a list of words\n",
        "print(\"1. The set of all alphabetic strings:\")\n",
        "for s in strings:\n",
        "  match_1 = re.search(r'^[a-zA-Z]+$', s)\n",
        "  if match_1:\n",
        "    print(match_1.group())\n",
        "print('\\n')\n",
        "\n",
        "print(\"2. The set of all lower-case alphabetic strings ending in a 'b':\")\n",
        "for s in strings:\n",
        "  match_2 = re.search(r'^[a-z]*b$', s)\n",
        "  if match_2:\n",
        "    print(match_2.group())\n",
        "print('\\n')\n",
        "\n",
        "print(\"3. The set of all strings from the alphabet [a,b] such that\\n\",\\\n",
        "      \"each a is immediately preceded by and immediately followed by a b:\")\n",
        "for s in strings:\n",
        "  match_3 = re.search(r'^b+(ab+)*b*$', s)\n",
        "  if match_3:\n",
        "    print(match_3.group())"
      ]
    },
    {
      "cell_type": "markdown",
      "source": [
        "**2.2**: Write regular expressions for the following languages. By \"word\", we mean an alphabetic string separated from other words by whitespace, any relevant punctuation, line breaks, and so forth.\n",
        "\n",
        "\n",
        "1.   the set of all strings with two consecutive repeated words (e.g., \"Humbert Humbert\" and \"the the\" but not \"the bug\" or \"the big bug\");\n",
        "2.   all strings that start at the beginning of the line with an integer and that end at the end of the line with a word;\n",
        "3.   all strings that have both the word *grotto* and the word *raven* in them (but not, e.g., words llike *grottos* that merely *contain* the word *grotto*);\n",
        "4.   write a pattern that places the first word of an English sentence in a register. Deal with punctuation.\n",
        "\n"
      ],
      "metadata": {
        "id": "3952hfk0rEUN"
      }
    },
    {
      "cell_type": "code",
      "source": [
        "import re\n"
      ],
      "metadata": {
        "id": "o-9gNqmGrD8m"
      },
      "execution_count": null,
      "outputs": []
    }
  ]
}