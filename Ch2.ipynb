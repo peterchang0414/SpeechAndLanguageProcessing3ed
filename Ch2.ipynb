{
  "nbformat": 4,
  "nbformat_minor": 0,
  "metadata": {
    "colab": {
      "name": "Ch2.ipynb",
      "provenance": []
    },
    "kernelspec": {
      "name": "python3",
      "display_name": "Python 3"
    },
    "language_info": {
      "name": "python"
    }
  },
  "cells": [
    {
      "cell_type": "markdown",
      "source": [
        "# 2: Regular Expressions, Text Normalization, Edit Distance"
      ],
      "metadata": {
        "id": "qk47KCC8e3kD"
      }
    },
    {
      "cell_type": "markdown",
      "source": [
        "Solution by: Peter Chang (GItHub: @peterchang0414)\n",
        "\n",
        "*Last edited: 2021.12.16*"
      ],
      "metadata": {
        "id": "6A8G9Nch76Cq"
      }
    },
    {
      "cell_type": "markdown",
      "source": [
        "**2.1**: Write regular expressions for the following languages.\n",
        "\n",
        "\n",
        "1.   the set of all alphabetic strings;\n",
        "2.   the set of all lower case alphabetic strings ending in a *b*\n",
        "3.   the set of all strings from the alphabet *a, b* such that each *a* is immediately preceded by and immediately followed by a *b*;\n",
        "\n"
      ],
      "metadata": {
        "id": "bxhs_F7yfDEK"
      }
    },
    {
      "cell_type": "code",
      "execution_count": 1,
      "metadata": {
        "id": "UUkJqcNCbMwS",
        "colab": {
          "base_uri": "https://localhost:8080/"
        },
        "outputId": "47a7e83f-d11b-4d6d-923a-8508320ec53d"
      },
      "outputs": [
        {
          "output_type": "stream",
          "name": "stdout",
          "text": [
            "1. The set of all alphabetic strings:\n",
            "  Db\n",
            "  AbcdE\n",
            "  bbabbbabbb\n",
            "  abab\n",
            "  bb\n",
            "\n",
            "\n",
            "2. The set of all lower-case alphabetic strings ending in a 'b':\n",
            "  bbabbbabbb\n",
            "  abab\n",
            "  bb\n",
            "\n",
            "\n",
            "3. The set of all strings from the alphabet [a,b] such that\n",
            " each a is immediately preceded by and immediately followed by a b:\n",
            "  bbabbbabbb\n",
            "  bb\n"
          ]
        }
      ],
      "source": [
        "import re\n",
        "\n",
        "strings = [\"a_b0c\", \"Db\", \"AbcdE\", \"bbabbbabbb\", \"abab\", \"123\", \"1b\", \"bb\"]\n",
        "\n",
        "# We interpret \"string\" as an entire word in 'strings', a list of words\n",
        "print(\"1. The set of all alphabetic strings:\")\n",
        "for s in strings:\n",
        "  match_1 = re.search(r'^[a-zA-Z]+$', s)\n",
        "  if match_1:\n",
        "    print(' ', match_1.group())\n",
        "print('\\n')\n",
        "\n",
        "print(\"2. The set of all lower-case alphabetic strings ending in a 'b':\")\n",
        "for s in strings:\n",
        "  match_2 = re.search(r'^[a-z]*b$', s)\n",
        "  if match_2:\n",
        "    print(' ', match_2.group())\n",
        "print('\\n')\n",
        "\n",
        "print(\"3. The set of all strings from the alphabet [a,b] such that\\n\",\\\n",
        "      \"each a is immediately preceded by and immediately followed by a b:\")\n",
        "for s in strings:\n",
        "  match_3 = re.search(r'^b+(?:ab+)*b*$', s)\n",
        "  if match_3:\n",
        "    print(' ', match_3.group())"
      ]
    },
    {
      "cell_type": "markdown",
      "source": [
        "**2.2**: Write regular expressions for the following languages. By \"word\", we mean an alphabetic string separated from other words by whitespace, any relevant punctuation, line breaks, and so forth.\n",
        "\n",
        "\n",
        "1.   the set of all strings with two consecutive repeated words (e.g., \"Humbert Humbert\" and \"the the\" but not \"the bug\" or \"the big bug\");\n",
        "2.   all strings that start at the beginning of the line with an integer and that end at the end of the line with a word;\n",
        "3.   all strings that have both the word *grotto* and the word *raven* in them (but not, e.g., words llike *grottos* that merely *contain* the word *grotto*);\n",
        "4.   write a pattern that places the first word of an English sentence in a register. Deal with punctuation.\n",
        "\n"
      ],
      "metadata": {
        "id": "3952hfk0rEUN"
      }
    },
    {
      "cell_type": "code",
      "source": [
        "import re\n",
        "\n",
        "strings = [\"Humbert Humbert\", \"thethe\", \"the big bug\", \"the bug bug\",\\\n",
        "         \"1,one\", \"2a two\", \"3:three\", \"4four\", \"5 4five\", \"z0 zero\",\\\n",
        "         \"grotto raven\", \"grottos raven\", \"grottoraven\", \"h raven grotto h\"]\n",
        "\n",
        "print(\"1. The set of all strings with two consecutive repeated words:\")\n",
        "for s in strings:\n",
        "  match_1 = re.search(r'(?:^|^.+\\W)([a-zA-Z]+)\\W+\\1(?:$|\\W.+$)', s)\n",
        "  if match_1:\n",
        "    print(' ', match_1.group())\n",
        "print('\\n')\n",
        "\n",
        "print(\"2. All strings that start at the beginning of the line with an\",\\\n",
        "      \"integer and that end at the end of the line with a word:\")\n",
        "for s in strings:\n",
        "  match_2 = re.search(r'^\\d.*\\W[a-zA-Z]+$', s)\n",
        "  if match_2:\n",
        "    print(' ', match_2.group())\n",
        "print('\\n')\n",
        "\n",
        "print(\"3. All strings that have both the word grotto and the word raven\",\\\n",
        "      \"in them:\")\n",
        "for s in strings:\n",
        "  match_3 = re.search(r'(^|^.+\\W)(grotto\\W.*raven|raven\\W.*grotto)($|\\W.+$)', s)\n",
        "  if match_3:\n",
        "    print(' ', match_3.group())\n",
        "print('\\n')\n",
        "\n",
        "print(\"4. Write a pattern that places the first word of an English sentence\",\\\n",
        "      \"in a register. Deal with punctuation.\")\n",
        "sentence = \"!!Hello, world: this is a regular expression!\"\n",
        "match_4 = re.search(r'^\\W*([a-zA-Z]+)(?:$|\\W.+$)', sentence)\n",
        "if match_4 and match_4.group(1):\n",
        "  # Print the first captured group in the register\n",
        "  print(' The first word of sentence: \"', sentence, '\" is: \"',\\\n",
        "        match_4.group(1), '\"', sep=\"\")"
      ],
      "metadata": {
        "colab": {
          "base_uri": "https://localhost:8080/"
        },
        "id": "o-9gNqmGrD8m",
        "outputId": "e686a646-b875-4add-8261-33159900ac44"
      },
      "execution_count": 2,
      "outputs": [
        {
          "output_type": "stream",
          "name": "stdout",
          "text": [
            "1. The set of all strings with two consecutive repeated words:\n",
            "  Humbert Humbert\n",
            "  the bug bug\n",
            "\n",
            "\n",
            "2. All strings that start at the beginning of the line with an integer and that end at the end of the line with a word:\n",
            "  1,one\n",
            "  2a two\n",
            "  3:three\n",
            "\n",
            "\n",
            "3. All strings that have both the word grotto and the word raven in them:\n",
            "  grotto raven\n",
            "  h raven grotto h\n",
            "\n",
            "\n",
            "4. Write a pattern that places the first word of an English sentence in a register. Deal with punctuation.\n",
            " The first word of sentence: \"!!Hello, world: this is a regular expression!\" is: \"Hello\"\n"
          ]
        }
      ]
    },
    {
      "cell_type": "markdown",
      "source": [
        "**2.3**: Implement an ELIZA-like program, using substitutions such as those described on page 11. You might want to choose a different domain than a Rogerian psychologist, although keep in mind that you would need a domain in which your program can legitimately engage in a lot of simple repetition."
      ],
      "metadata": {
        "id": "1MhCe0085paB"
      }
    },
    {
      "cell_type": "code",
      "source": [
        "import re, random\n",
        "\n",
        "# ELIZA\n",
        "t_b = \"eliza: \"\n",
        "user_str = input(t_b + \"WHAT'S ON YOUR MIND? (input 'quit' to quit)\\n\")\n",
        "while user_str != 'quit':\n",
        "  response = re.sub(r'.*I\\'M (DEPRESSED|SAD|WORRIED).*',\\\n",
        "                    r'I AM SORRY TO HEAR YOU ARE \\1', user_str.upper())\n",
        "  if response == user_str.upper():\n",
        "    response = re.sub(r'.*I AM (DEPRESSED|SAD|HAPPY|WORRIED).*', \\\n",
        "                      r'WHY DO YOU THINK YOU ARE \\1', response)\n",
        "  if response == user_str.upper():\n",
        "    response = re.sub(r'.* ALL .*', \\\n",
        "                      r'IN WHAT WAY', response)\n",
        "  if response == user_str.upper():\n",
        "    response = re.sub(r'.* ALWAYS .*', \\\n",
        "                      r'CAN YOU THINK OF A SPECIFIC EXAMPLE', response)\n",
        "  if response == user_str.upper():\n",
        "    default = ['please, tell me more', 'i understand', \n",
        "               'recognizing that is good', 'thank you for telling me']\n",
        "    default = [st.upper() for st in default]\n",
        "    response = random.choice(default)\n",
        "  user_str = input(t_b + response + '\\n')"
      ],
      "metadata": {
        "id": "ytulHtiy59Lb",
        "colab": {
          "base_uri": "https://localhost:8080/"
        },
        "outputId": "8447c2c2-e760-4eb2-b06e-9dc824ca917d"
      },
      "execution_count": 80,
      "outputs": [
        {
          "name": "stdout",
          "output_type": "stream",
          "text": [
            "eliza: WHAT'S ON YOUR MIND? (input 'quit' to quit)\n",
            "Men are all alike\n",
            "eliza: IN WHAT WAY\n",
            "They're always bugging us about something or other.\n",
            "eliza: CAN YOU THINK OF A SPECIFIC EXAMPLE\n",
            "Well, my boyfriend made me come here.\n",
            "eliza: PLEASE, TELL ME MORE\n",
            "He says I'm depressed much of the time.\n",
            "eliza: I AM SORRY TO HEAR YOU ARE DEPRESSED\n",
            "quit\n"
          ]
        }
      ]
    },
    {
      "cell_type": "markdown",
      "source": [
        "**2.4**: Compute the edit distance (using insertion cost 1, deletion cost 1, substitution cost 1) of \"leda\" to \"deal\". Show your work (using the edit distance grid)."
      ],
      "metadata": {
        "id": "N71GPqvcnmD1"
      }
    },
    {
      "cell_type": "code",
      "source": [
        "import pandas as pd\n",
        "\n",
        "def min_edit_distance(source, target, ins_cost, del_cost, sub_cost):\n",
        "  n, m = len(source), len(target)\n",
        "  # initialization\n",
        "  dp = [[0 for _ in range(m+1)] for _ in range(n+1)]\n",
        "  for i in range(1, n+1):\n",
        "    dp[i][0] = dp[i-1][0] + del_cost\n",
        "  for j in range(1, m+1):\n",
        "    dp[0][j] = dp[0][j-1] + ins_cost\n",
        "  # recurrence relation\n",
        "  for i in range(1, n+1):\n",
        "    for j in range(1, m+1):\n",
        "      sub_cost_curr = 0\n",
        "      if source[i-1] != target[j-1]:\n",
        "        sub_cost_curr = sub_cost\n",
        "      dp[i][j] = min(dp[i-1][j]+del_cost, dp[i-1][j-1]+sub_cost_curr, \\\n",
        "                     dp[i][j-1]+ins_cost)\n",
        "  return dp, dp[n][m]\n",
        "\n",
        "source = input(\"Enter source string: \")\n",
        "target = input(\"Enter target string: \")\n",
        "ins_cost = int(input(\"Enter insertion cost: \"))\n",
        "del_cost = int(input(\"Enter deletion cost: \"))\n",
        "sub_cost = int(input(\"Enter substitution cost: \"))\n",
        "\n",
        "dp, distance = min_edit_distance(source, target, ins_cost, del_cost, sub_cost)\n",
        "\n",
        "print('\\n' + \"=\"*30 + '\\n')\n",
        "\n",
        "print(\"The edit distance between '\" + source +\"' and '\" + target \\\n",
        "      + \"' is: \" + str(distance) + '\\n')\n",
        "print(\"The edit distance grid is as follows:\")\n",
        "print(pd.DataFrame(dp, index=list('#'+source), columns=list('#'+target)))"
      ],
      "metadata": {
        "colab": {
          "base_uri": "https://localhost:8080/"
        },
        "id": "5LjgC9sOpri8",
        "outputId": "0ee75b81-90f3-4b90-a7ad-b72322d8f144"
      },
      "execution_count": 52,
      "outputs": [
        {
          "output_type": "stream",
          "name": "stdout",
          "text": [
            "Enter source string: intention\n",
            "Enter target string: execution\n",
            "Enter insertion cost: 1\n",
            "Enter deletion cost: 1\n",
            "Enter substitution cost: 1\n",
            "\n",
            "==============================\n",
            "\n",
            "The edit distance between 'intention' and 'execution' is: 5\n",
            "\n",
            "The edit distance grid is as follows:\n",
            "   #  e  x  e  c  u  t  i  o  n\n",
            "#  0  1  2  3  4  5  6  7  8  9\n",
            "i  1  1  2  3  4  5  6  6  7  8\n",
            "n  2  2  2  3  4  5  6  7  7  7\n",
            "t  3  3  3  3  4  5  5  6  7  8\n",
            "e  4  3  4  3  4  5  6  6  7  8\n",
            "n  5  4  4  4  4  5  6  7  7  7\n",
            "t  6  5  5  5  5  5  5  6  7  8\n",
            "i  7  6  6  6  6  6  6  5  6  7\n",
            "o  8  7  7  7  7  7  7  6  5  6\n",
            "n  9  8  8  8  8  8  8  7  6  5\n"
          ]
        }
      ]
    },
    {
      "cell_type": "markdown",
      "source": [
        "**2.5**: Figure out whether *drive* is closer to *brief* or to *divers* and what the edit distance is to each. You may use any version of *distance* that you like."
      ],
      "metadata": {
        "id": "icYJv-a1v2VS"
      }
    },
    {
      "cell_type": "code",
      "source": [
        "drive, brief, divers = 'drive', 'brief', 'divers'\n",
        "costs = [1, 1, 1]\n",
        "dp1, dist1 = min_edit_distance(drive, brief, *costs)\n",
        "dp2, dist2 = min_edit_distance(drive, divers, *costs)\n",
        "print(\"The edit distance between '\"+drive+\"' and '\"+brief+\"' is \"+str(dist1))\n",
        "print(\"The edit distance between '\"+drive+\"' and '\"+divers+\"' is \"+str(dist2))\n",
        "if dist1 == dist2:\n",
        "  print(\"Thus, the edit distances are the same.\")\n",
        "elif dist1 < dist2:\n",
        "  print(\"Thus, '\"+drive+\"' is closer to '\"+brief+\"'.\")\n",
        "else:\n",
        "  print(\"Thus, '\"+drive+\"' is closer to '\"+divers+\"'.\")"
      ],
      "metadata": {
        "colab": {
          "base_uri": "https://localhost:8080/"
        },
        "id": "OalhGFqXwDqk",
        "outputId": "27b5b702-6b1a-493e-9aea-7c509f811964"
      },
      "execution_count": 51,
      "outputs": [
        {
          "output_type": "stream",
          "name": "stdout",
          "text": [
            "The edit distance between 'drive' and 'brief' is 3\n",
            "The edit distance between 'drive' and 'divers' is 3\n",
            "Thus, the edit distances are the same.\n"
          ]
        }
      ]
    },
    {
      "cell_type": "markdown",
      "source": [
        "**2.6**: Now implement a minimum edit distance algorithm and use your hand-computed results to check your code."
      ],
      "metadata": {
        "id": "tUe-zlT1ycg3"
      }
    },
    {
      "cell_type": "markdown",
      "source": [
        "**2.7**: Augment the minimum edit distance algorithm to output an alignment; you will need to store pointers and add a stage to compute the backtrace."
      ],
      "metadata": {
        "id": "Rw1tE_sSylZ4"
      }
    },
    {
      "cell_type": "code",
      "source": [
        "import pandas as pd\n",
        "\n",
        "def aug_min_edit_distance(source, target, ins_cost, del_cost, sub_cost):\n",
        "  n, m = len(source), len(target)\n",
        "  # initialization\n",
        "  dp = [[0 for _ in range(m+1)] for _ in range(n+1)]\n",
        "  backpointers = [[\"\" for _ in range(m+1)] for _ in range(n+1)]\n",
        "  for i in range(1, n+1):\n",
        "    dp[i][0] = dp[i-1][0] + del_cost\n",
        "    backpointers[i][0] = \"del\"\n",
        "  for j in range(1, m+1):\n",
        "    dp[0][j] = dp[0][j-1] + ins_cost\n",
        "    backpointers[0][j] = \"ins\"\n",
        "  # recurrence relation\n",
        "  for i in range(1, n+1):\n",
        "    for j in range(1, m+1):\n",
        "      ic, dc, sc = dp[i][j-1]+ins_cost, dp[i-1][j]+del_cost, dp[i-1][j-1]\n",
        "      if source[i-1] != target[j-1]:\n",
        "        sc += sub_cost\n",
        "      if sc == min(ic, dc, sc):\n",
        "        backpointers[i][j] = \"sub\"\n",
        "      elif ic == min(ic, dc, sc):\n",
        "        backpointers[i][j] = \"ins\"\n",
        "      else:\n",
        "        backpointers[i][j] = \"del\"\n",
        "      dp[i][j] = min(ic, dc, sc)\n",
        "  return backpointers, dp, dp[n][m]\n",
        "\n",
        "def produce_alignment(source, target, ins_cost, del_cost, sub_cost):\n",
        "  bp, _, _ = aug_min_edit_distance(source, target, ins_cost, del_cost, sub_cost)\n",
        "  source, target = source.upper(), target.upper()\n",
        "  source_aligned, target_aligned = \"\", \"\"\n",
        "  i, j = len(bp)-1, len(bp[0])-1\n",
        "  while i or j:\n",
        "    if bp[i][j] == \"sub\":\n",
        "      i, j = i-1, j-1\n",
        "      source_aligned = source[i] + source_aligned\n",
        "      target_aligned = target[j] + target_aligned\n",
        "    elif bp[i][j] == \"ins\":\n",
        "      j -= 1\n",
        "      source_aligned = '*'+source_aligned\n",
        "      target_aligned = target[j] + target_aligned\n",
        "    else:\n",
        "      i -= 1\n",
        "      source_aligned = source[i] + source_aligned\n",
        "      target_aligned = '*'+target_aligned\n",
        "  return source_aligned, target_aligned\n",
        "\n",
        "source = input(\"Enter source string: \")\n",
        "target = input(\"Enter target string: \")\n",
        "ic = int(input(\"Enter insertion cost: \"))\n",
        "dc = int(input(\"Enter deletion cost: \"))\n",
        "sc = int(input(\"Enter substitution cost: \"))\n",
        "\n",
        "s_aligned, t_aligned = produce_alignment(source, target, ic, dc, sc)\n",
        "\n",
        "print('\\n'+\"=\"*30+'\\n')\n",
        "print(\"The alignment is as follows:\\n\")\n",
        "print(' '*8+s_aligned)\n",
        "print(' '*8+t_aligned)"
      ],
      "metadata": {
        "colab": {
          "base_uri": "https://localhost:8080/"
        },
        "id": "wHToxJP6y2jh",
        "outputId": "478af678-76b0-49b4-ac1c-c419df6f24f7"
      },
      "execution_count": 78,
      "outputs": [
        {
          "output_type": "stream",
          "name": "stdout",
          "text": [
            "Enter source string: Hello, I am Peter Chang\n",
            "Enter target string: Hello, I am Paul Thomas Anderson\n",
            "Enter insertion cost: 1\n",
            "Enter deletion cost: 1\n",
            "Enter substitution cost: 2\n",
            "\n",
            "==============================\n",
            "\n",
            "The alignment is as follows:\n",
            "\n",
            "        HELLO, I AM PETER CH**A***N*****G\n",
            "        HELLO, I AM P*AUL THOMAS ANDERSON\n"
          ]
        }
      ]
    }
  ]
}