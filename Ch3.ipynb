{
  "nbformat": 4,
  "nbformat_minor": 0,
  "metadata": {
    "colab": {
      "name": "Ch2.ipynb",
      "provenance": [],
      "include_colab_link": true
    },
    "kernelspec": {
      "name": "python3",
      "display_name": "Python 3"
    },
    "language_info": {
      "name": "python"
    }
  },
  "cells": [
    {
      "cell_type": "markdown",
      "metadata": {
        "id": "view-in-github",
        "colab_type": "text"
      },
      "source": [
        "<a href=\"https://colab.research.google.com/github/peterchang0414/SLP/blob/main/Ch3.ipynb\" target=\"_parent\"><img src=\"https://colab.research.google.com/assets/colab-badge.svg\" alt=\"Open In Colab\"/></a>"
      ]
    },
    {
      "cell_type": "markdown",
      "source": [
        "# 3: N-gram Language Models"
      ],
      "metadata": {
        "id": "qk47KCC8e3kD"
      }
    },
    {
      "cell_type": "markdown",
      "source": [
        "Solution by: Peter Chang (GItHub: @peterchang0414)\n",
        "\n",
        "*Last edited: 2021.12.20*"
      ],
      "metadata": {
        "id": "6A8G9Nch76Cq"
      }
    },
    {
      "cell_type": "markdown",
      "source": [
        "**3.1**: Write out the equation for trigram probability estimation (modifying Eq. 3.11). Now write out all the non-zero trigram probabilities for the *I am Sam* corpus on page 32."
      ],
      "metadata": {
        "id": "bxhs_F7yfDEK"
      }
    },
    {
      "cell_type": "markdown",
      "source": [
        "For a trigram model, we make the following approximation:\n",
        "\\begin{align}\n",
        "        P(w_n|w_{1:n-1}) \\approx P(w_n|w_{n-2}w_{n-1})\n",
        "\\end{align}\n",
        "As with the bigram model, to compute the trigram probability of a word $z$ given previous two words $x$ and $y$, we compute the count of the trigram $C(xyz)$ and normalize by ubigram count of $C(xy)$:\n",
        "\\begin{align}\n",
        "  P(w_n|w_{n-2}w_{n-1}) &= \\frac{C(w_{n-2}w_{n-1}w_{n})}{C(w_{n-2}w_{n-1})}\n",
        "\\end{align}\n",
        "\n",
        "For the *I am Sam* corpus, we augment each sentence with two specials at the beginning and at the end:\n",
        "\n",
        "\\begin{align}\n",
        "  &\\texttt{<s><s> I am Sam </s></s>} \\\\\n",
        "  &\\texttt{<s><s> Sam I am </s></s>} \\\\\n",
        "  &\\texttt{<s><s> I do not like green eggs and ham </s></s>}\n",
        "\\end{align}\n",
        "\n",
        "Then, the following are all the non-zero trigram probabilities for the corpus:\n",
        "\n",
        "\\begin{align}\n",
        "  P(\\texttt{I}|\\texttt{<s><s>}) &= \\frac{2}{3} = .67, && &P(\\texttt{Sam}|\\texttt{<s><s>}) &= \\frac{1}{3} = .33 && &P(\\texttt{am}|\\texttt{<s> I}) &= \\frac{1}{2}=.5 \\\\\n",
        "  P(\\texttt{I}|\\texttt{<s> Sam}) &= 1 && &P(\\texttt{do}|\\texttt{<s> I}) &= \\frac{1}{2} = .5 && &P(\\texttt{Sam}|\\texttt{I am}) &= \\frac{1}{2} = .5 \\\\\n",
        "  P(\\texttt{am}|\\texttt{Sam I}) &= 1 && &P(\\texttt{not}|\\texttt{I do}) &= 1 && &P(\\texttt{</s>}|\\texttt{am Sam}) &= 1 \\\\\n",
        "  P(\\texttt{</s>}|\\texttt{I am}) &= \\frac{1}{2} = .5 && &P(\\texttt{like}|\\texttt{do not}) &= 1 && &P(\\texttt{</s>}|\\texttt{Sam </s>}) &= 1 \\\\\n",
        "  P(\\texttt{</s>}|\\texttt{am </s>}) &= 1 && &P(\\texttt{green}|\\texttt{not like}) &= 1 && &P(\\texttt{eggs}|\\texttt{like green}) &= 1 \\\\\n",
        "  P(\\texttt{and}|\\texttt{green eggs}) &= 1 && &P(\\texttt{ham}|\\texttt{eggs and}) &= 1 && &P(\\texttt{</s>}|\\texttt{and ham}) &= 1 \\\\\n",
        "  P(\\texttt{</s>}|\\texttt{ham </s>}) &= 1\n",
        "\\end{align}"
      ],
      "metadata": {
        "id": "vkrdKv5_-vzM"
      }
    }
  ]
}