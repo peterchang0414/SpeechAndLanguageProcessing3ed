{
  "nbformat": 4,
  "nbformat_minor": 0,
  "metadata": {
    "colab": {
      "name": "Ch2.ipynb",
      "provenance": [],
      "include_colab_link": true
    },
    "kernelspec": {
      "name": "python3",
      "display_name": "Python 3"
    },
    "language_info": {
      "name": "python"
    }
  },
  "cells": [
    {
      "cell_type": "markdown",
      "metadata": {
        "id": "view-in-github",
        "colab_type": "text"
      },
      "source": [
        "<a href=\"https://colab.research.google.com/github/peterchang0414/SpeechAndLanguageProcessing3ed/blob/main/Ch4.ipynb\" target=\"_parent\"><img src=\"https://colab.research.google.com/assets/colab-badge.svg\" alt=\"Open In Colab\"/></a>"
      ]
    },
    {
      "cell_type": "markdown",
      "source": [
        "# 4: Naive Bayes and Sentiment Classification"
      ],
      "metadata": {
        "id": "qk47KCC8e3kD"
      }
    },
    {
      "cell_type": "markdown",
      "source": [
        "Solution by: Peter Chang (GItHub: @peterchang0414)\n",
        "\n",
        "*Last edited: 2022.1.21*"
      ],
      "metadata": {
        "id": "6A8G9Nch76Cq"
      }
    },
    {
      "cell_type": "markdown",
      "source": [
        "**4.1**: Assume the following likelihoods for each word being part of a positive or negative movie review, and equal prior probabilities for each class.\n",
        "\\begin{array}{ c c c }\n",
        "  & \\text{pos} & \\text{neg} \\\\ \n",
        "  \\hline\n",
        "  \\text{I} & 0.09 & 0.16 \\\\  \n",
        "  \\text{always} & 0.07 & 0.06 \\\\\n",
        "  \\text{like} & 0.29 & 0.06 \\\\\n",
        "  \\text{foreign} & 0.04 & 0.15 \\\\\n",
        "  \\text{films} & 0.08 & 0.11   \n",
        "\\end{array}\n",
        "What class will Naive bayes assign to the sentence \"I always like foreign films.\"?"
      ],
      "metadata": {
        "id": "bxhs_F7yfDEK"
      }
    },
    {
      "cell_type": "markdown",
      "source": [
        "Using equation (4.10), since we assume equal prior probabilities for each class:\n",
        "\\begin{align}\n",
        "  c_{NB} = \\text{argmax}_{c \\in C}\\sum_{i \\in \\text{positions}} \\log{P(w_i|c)}\n",
        "\\end{align}\n",
        "Computing the log probabilities for the positive class:\n",
        "\\begin{align}\n",
        "  \\sum_{i \\in \\text{positions}} \\log{P(w_i|\\text{pos})} &= \\log(0.09) + \\dots + \\log(0.08) \\approx -5.233\n",
        "\\end{align}\n",
        "whereas for the negative class we have:\n",
        "\\begin{align}\n",
        "  \\sum_{i \\in \\text{positions}} \\log{P(w_i|\\text{neg})} &= \\log(0.16) + \\dots + \\log(0.11) \\approx -5.022\n",
        "\\end{align}\n",
        "Therefore, Naive bayes will assign the sentence to the negative class."
      ],
      "metadata": {
        "id": "c7IiC777E-rv"
      }
    },
    {
      "cell_type": "markdown",
      "source": [
        "**4.2**: Given the following short movie reviews, each labeled with a genre, either comedy or action:\n",
        "\n",
        "\n",
        "1.   fun, couple, love, love: **comedy**\n",
        "2.   fast, furious, shoot: **action**\n",
        "3.   couple, fly, fast, fun, fun: **comedy**\n",
        "4.   furious, shoot, shoot, fun: **action**\n",
        "5.   fly, fast, shoot, love: **action**\n",
        "\n",
        "and a new document D:\n",
        "\n",
        "> fast, couple, shoot, fly\n",
        "\n",
        "compute the most likely class for D. Assume a naive Bayes classifier and use add-1 smoothing for the likelihoods."
      ],
      "metadata": {
        "id": "-TaqbgDr4G5e"
      }
    },
    {
      "cell_type": "markdown",
      "source": [
        "The prior for the two classes is computed:\n",
        "$$\n",
        "\\begin{align}\n",
        "  P(\\text{comedy}) &= \\frac{2}{5}, & P(\\text{action}) &= \\frac{3}{5}\n",
        "\\end{align}\n",
        "$$\n",
        "\n",
        "The probabilities for the words in the document D are as follows:\n",
        "\n",
        "$$\n",
        "\\begin{align}\n",
        "  P(\\text{fast}|\\text{comedy}) &= \\frac{1+1}{9+7}=\\frac{2}{16}, & P(\\text{fast}|\\text{action}) &= \\frac{2+1}{11+7}=\\frac{3}{18} \\\\\n",
        "  P(\\text{couple}|\\text{comedy}) &= \\frac{2+1}{9+7}=\\frac{3}{16}, & P(\\text{couple}|\\text{action}) &= \\frac{0+1}{11+7}=\\frac{1}{18} \\\\\n",
        "  P(\\text{shoot}|\\text{comedy}) &= \\frac{0+1}{9+7}=\\frac{1}{16}, & P(\\text{shoot}|\\text{action}) &= \\frac{4+1}{11+7}=\\frac{5}{18} \\\\\n",
        "  P(\\text{fly}|\\text{comedy}) &= \\frac{1+1}{9+7}=\\frac{2}{16}, & P(\\text{fly}|\\text{action}) &= \\frac{1+1}{11+7}=\\frac{2}{18}\n",
        "\\end{align}\n",
        "$$\n",
        "\n",
        "Therefore, the posterior probabilities are computed:\n",
        "$$\n",
        "\\begin{align}\n",
        "  P(\\text{comedy})P(D|\\text{comedy}) &= \\frac{2}{5} \\times \\frac{12}{16^{4}} \\approx 7.3 \\times 10^{-5} \\\\\n",
        "  P(\\text{action})P(D|\\text{action}) &= \\frac{3}{5} \\times \\frac{30}{18^{4}} \\approx 1.7 \\times 10^{-4}\n",
        "\\end{align}\n",
        "$$\n",
        "The model thus predicts the class *action* for the document $D$."
      ],
      "metadata": {
        "id": "-pjM-hQVkoeU"
      }
    }
  ]
}