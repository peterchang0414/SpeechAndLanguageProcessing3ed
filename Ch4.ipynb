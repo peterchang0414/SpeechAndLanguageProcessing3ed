{
  "nbformat": 4,
  "nbformat_minor": 0,
  "metadata": {
    "colab": {
      "name": "Ch2.ipynb",
      "provenance": [],
      "include_colab_link": true
    },
    "kernelspec": {
      "name": "python3",
      "display_name": "Python 3"
    },
    "language_info": {
      "name": "python"
    }
  },
  "cells": [
    {
      "cell_type": "markdown",
      "metadata": {
        "id": "view-in-github",
        "colab_type": "text"
      },
      "source": [
        "<a href=\"https://colab.research.google.com/github/peterchang0414/SpeechAndLanguageProcessing3ed/blob/main/Ch4.ipynb\" target=\"_parent\"><img src=\"https://colab.research.google.com/assets/colab-badge.svg\" alt=\"Open In Colab\"/></a>"
      ]
    },
    {
      "cell_type": "markdown",
      "source": [
        "# 4: Naive Bayes and Sentiment Classification"
      ],
      "metadata": {
        "id": "qk47KCC8e3kD"
      }
    },
    {
      "cell_type": "markdown",
      "source": [
        "Solution by: Peter Chang (GItHub: @peterchang0414)\n",
        "\n",
        "*Last edited: 2022.1.17*"
      ],
      "metadata": {
        "id": "6A8G9Nch76Cq"
      }
    },
    {
      "cell_type": "markdown",
      "source": [
        "**4.1**: Assume the following likelihoods for each word being part of a positive or negative movie review, and equal prior probabilities for each class.\n",
        "\\begin{array}{ c c c }\n",
        "  & \\text{pos} & \\text{neg} \\\\ \n",
        "  \\hline\n",
        "  \\text{I} & 0.09 & 0.16 \\\\  \n",
        "  \\text{always} & 0.07 & 0.06 \\\\\n",
        "  \\text{like} & 0.29 & 0.06 \\\\\n",
        "  \\text{foreign} & 0.04 & 0.15 \\\\\n",
        "  \\text{films} & 0.08 & 0.11   \n",
        "\\end{array}\n",
        "What class will Naive bayes assign to the sentence \"I always like foreign films.\"?"
      ],
      "metadata": {
        "id": "bxhs_F7yfDEK"
      }
    },
    {
      "cell_type": "markdown",
      "source": [
        "Using equation (4.10), since we assume equal prior probabilities for each class:\n",
        "\\begin{align}\n",
        "  c_{NB} = \\text{argmax}_{c \\in C}\\sum_{i \\in \\text{positions}} \\log{P(w_i|c)}\n",
        "\\end{align}\n",
        "Computing the log probabilities for the positive class:\n",
        "\\begin{align}\n",
        "  \\sum_{i \\in \\text{positions}} \\log{P(w_i|\\text{pos})} &= \\log(0.09) + \\dots + \\log(0.08) \\approx -5.233\n",
        "\\end{align}\n",
        "whereas for the negative class we have:\n",
        "\\begin{align}\n",
        "  \\sum_{i \\in \\text{positions}} \\log{P(w_i|\\text{neg})} &= \\log(0.16) + \\dots + \\log(0.11) \\approx -5.022\n",
        "\\end{align}\n",
        "Therefore, Naive bayes will assign the sentence to the negative class."
      ],
      "metadata": {
        "id": "c7IiC777E-rv"
      }
    },
    {
      "cell_type": "markdown",
      "source": [
        "4.2: "
      ],
      "metadata": {
        "id": "-TaqbgDr4G5e"
      }
    }
  ]
}